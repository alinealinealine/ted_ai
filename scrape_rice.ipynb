{
 "cells": [
  {
   "attachments": {},
   "cell_type": "markdown",
   "metadata": {},
   "source": [
    "# This code is to scrpae the content on rice production pdf file -> raw text -> structured content. "
   ]
  },
  {
   "cell_type": "code",
   "execution_count": 51,
   "metadata": {},
   "outputs": [
    {
     "name": "stdout",
     "output_type": "stream",
     "text": [
      "   Title                                            Content\n",
      "0         Steps at a glance Lessons Page Step 1. Use a c...\n",
      "1         A crop calendar is a picture of your rice grow...\n",
      "2         The most suitable variety is the one best meet...\n",
      "3         High-quality seed reduces the required seeding...\n",
      "4         A well-prepared and leveled field gives a unif...\n",
      "5         Planting the crop on time will help produce a ...\n",
      "6         Weeds compete directly with the rice plants an...\n",
      "7         Most soils provide only limited amount of nutr...\n",
      "8         Water availability largely determines the pote...\n",
      "9         Farmers lose an estimated average of 37% of th...\n",
      "10        Harvesting the crop on time is very important ...\n",
      "11        Rice is best stored as paddy because the husk ...\n",
      "12        Milling rice paddy removes the husk and bran l...\n",
      "13        The value of milled rice in the market is dete...\n",
      "14                                                         \n"
     ]
    }
   ],
   "source": [
    "import pandas as pd\n",
    "\n",
    "# Function to parse the manual text into a dictionary\n",
    "def parse_manual(text):\n",
    "    # Split the text into sections based on \"Steps to successful rice production\"\n",
    "    sections = text.split(\"Steps to successful rice production\")[1:]  # the first split item is empty\n",
    "    \n",
    "    data = []\n",
    "    for section in sections:\n",
    "        # Further split each section by lines\n",
    "        lines = section.strip().split(\"\\n\")\n",
    "        \n",
    "        # The first line is the step number and title, separated by a space\n",
    "        step_title = \" \".join(lines[0].split()[1:])  # step title is the rest of the line\n",
    "        \n",
    "        # The rest of the lines are the step content\n",
    "        step_content = \" \".join(lines[1:]).strip()\n",
    "        \n",
    "        # Store in a dictionary\n",
    "        data.append({\n",
    "            \"Title\": step_title,\n",
    "            \"Content\": step_content\n",
    "        })\n",
    "    \n",
    "    return data\n",
    "\n",
    "# Read the manual text from the 'text.txt' file\n",
    "with open('rice_pdf.txt', 'r') as file:\n",
    "    manual_text = file.read()\n",
    "\n",
    "# Parse the manual text\n",
    "parsed_data = parse_manual(manual_text)\n",
    "\n",
    "# Create a DataFrame\n",
    "df = pd.DataFrame(parsed_data)\n",
    "\n",
    "# Display the DataFrame\n",
    "print(df)\n"
   ]
  },
  {
   "cell_type": "code",
   "execution_count": 52,
   "metadata": {},
   "outputs": [
    {
     "data": {
      "text/plain": [
       "15"
      ]
     },
     "execution_count": 52,
     "metadata": {},
     "output_type": "execute_result"
    }
   ],
   "source": [
    "steps = [\n",
    "    \"Table of content\",\n",
    "    \"Use a crop calendar\",\n",
    "    \"Choose the best variety\",\n",
    "    \"Use high quality seed\",\n",
    "    \"Prepare and level the fields well\",\n",
    "    \"Plant on time\",\n",
    "    \"Weed early\",\n",
    "    \"Fertilize to maximize returns\",\n",
    "    \"Use water efficiently\",\n",
    "    \"Control pests and diseases effectively\",\n",
    "    \"Harvest on time\",\n",
    "    \"Store safely\",\n",
    "    \"Mill efficiently\",\n",
    "    \"Understand the market\",\n",
    "    \" \"\n",
    "]\n",
    "\n",
    "# Print the steps\n",
    "len(steps)\n"
   ]
  },
  {
   "cell_type": "code",
   "execution_count": 62,
   "metadata": {},
   "outputs": [],
   "source": [
    "df['Title'] = steps\n",
    "df['Source'] = \"http://knowledgebank.irri.org/images/docs/12-Steps-Required-for-Successful-Rice-Production.pdf\"\n",
    "df['Source_name'] = \"International Rice Research Institute (IRRI)\"\n",
    "df['Embedding_chunk'] = df['Title'] + \": \" + df['Content']\n"
   ]
  },
  {
   "cell_type": "code",
   "execution_count": 64,
   "metadata": {},
   "outputs": [],
   "source": [
    "import json\n",
    "\n",
    "# Convert DataFrame to a dictionary\n",
    "data_dict = df.to_dict(orient='records')\n",
    "\n",
    "# Save data to a JSON file with pretty printing\n",
    "with open('rice_irri_pdf.json', 'w', encoding='utf-8') as file:\n",
    "    json.dump(data_dict, file, ensure_ascii=False, indent=4)\n"
   ]
  }
 ],
 "metadata": {
  "kernelspec": {
   "display_name": "Python 3",
   "language": "python",
   "name": "python3"
  },
  "language_info": {
   "codemirror_mode": {
    "name": "ipython",
    "version": 3
   },
   "file_extension": ".py",
   "mimetype": "text/x-python",
   "name": "python",
   "nbconvert_exporter": "python",
   "pygments_lexer": "ipython3",
   "version": "3.10.7"
  },
  "orig_nbformat": 4
 },
 "nbformat": 4,
 "nbformat_minor": 2
}
